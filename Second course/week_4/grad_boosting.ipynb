{
 "cells": [
  {
   "cell_type": "markdown",
   "metadata": {},
   "source": []
  },
  {
   "cell_type": "code",
   "execution_count": 9,
   "metadata": {
    "tags": []
   },
   "outputs": [],
   "source": [
    "import sklearn.datasets as datasets\n",
    "import numpy as np\n",
    "from matplotlib import pyplot as plt\n",
    "import pandas as pd"
   ]
  },
  {
   "cell_type": "code",
   "execution_count": 10,
   "metadata": {},
   "outputs": [],
   "source": [
    "%matplotlib inline"
   ]
  },
  {
   "cell_type": "code",
   "execution_count": 34,
   "metadata": {},
   "outputs": [],
   "source": [
    "data = datasets.load_boston()"
   ]
  },
  {
   "cell_type": "code",
   "execution_count": 39,
   "metadata": {},
   "outputs": [],
   "source": [
    "from sklearn.model_selection import train_test_split\n",
    "target = data['target']\n",
    "dataa = data['data']\n",
    "x_train, x_test, y_train, y_test = train_test_split(dataa, target, test_size=0.25, random_state=0)"
   ]
  },
  {
   "cell_type": "markdown",
   "metadata": {},
   "source": []
  },
  {
   "cell_type": "code",
   "execution_count": null,
   "metadata": {
    "tags": []
   },
   "outputs": [],
   "source": []
  },
  {
   "cell_type": "markdown",
   "metadata": {},
   "source": []
  },
  {
   "cell_type": "code",
   "execution_count": 40,
   "metadata": {
    "tags": []
   },
   "outputs": [
    {
     "data": {
      "text/plain": [
       "5.166484078232705"
      ]
     },
     "execution_count": 40,
     "metadata": {},
     "output_type": "execute_result"
    }
   ],
   "source": [
    "from sklearn.tree import DecisionTreeRegressor\n",
    "\n",
    "num_of_estimators = 50\n",
    "coef = [0.9 for _ in range(num_of_estimators)]\n",
    "\n",
    "def gbm_predict(X, estimators):\n",
    "    return np.asarray([sum([coeff * algo.predict([x])[0] for algo, coeff in zip(estimators, coef)]) for x in X], \n",
    "                      dtype=np.float32)\n",
    "def mse(X, Y, estimators):\n",
    "    error = np.sum(np.power(gbm_predict(X, estimators) - Y, 2)) / X.shape[0]\n",
    "    return error\n",
    "def rmse(X, Y, estimators):\n",
    "    return np.sqrt(mse(X, Y, estimators))\n",
    "\n",
    "def gradient_boost_fit(x, y):\n",
    "    estimators = [DecisionTreeRegressor(max_depth=5, random_state=42) for _ in range(num_of_estimators)]\n",
    "    \n",
    "    gradient = y\n",
    "    for i in range(num_of_estimators):\n",
    "        estimators[i].fit(x, gradient)\n",
    "        gradient = y - gbm_predict(x, estimators[:(i + 1)])\n",
    "    return estimators\n",
    "\n",
    "estimators = gradient_boost_fit(x_train, y_train)\n",
    "\n",
    "rmse(x_train, y_train, estimators)\n",
    "\n",
    "rmse(x_test, y_test, estimators)"
   ]
  },
  {
   "cell_type": "markdown",
   "metadata": {},
   "source": []
  },
  {
   "cell_type": "code",
   "execution_count": 41,
   "metadata": {
    "tags": []
   },
   "outputs": [
    {
     "data": {
      "text/plain": [
       "4.861180203431985"
      ]
     },
     "execution_count": 41,
     "metadata": {},
     "output_type": "execute_result"
    }
   ],
   "source": [
    "coef = [0.9 / (1. + i) for i in range(num_of_estimators)]\n",
    "\n",
    "estimators = gradient_boost_fit(x_train, y_train)\n",
    "\n",
    "rmse(x_test, y_test, estimators)"
   ]
  },
  {
   "cell_type": "markdown",
   "metadata": {},
   "source": []
  },
  {
   "cell_type": "code",
   "execution_count": null,
   "metadata": {
    "tags": []
   },
   "outputs": [],
   "source": []
  },
  {
   "cell_type": "markdown",
   "metadata": {},
   "source": []
  },
  {
   "cell_type": "code",
   "execution_count": 42,
   "metadata": {
    "tags": []
   },
   "outputs": [
    {
     "data": {
      "text/plain": [
       "5.457311159564069"
      ]
     },
     "execution_count": 42,
     "metadata": {},
     "output_type": "execute_result"
    }
   ],
   "source": [
    "from sklearn.linear_model import LinearRegression\n",
    "estimator = LinearRegression()\n",
    "estimator.fit(x_train, y_train)\n",
    "\n",
    "def mse(X, Y, estimator):\n",
    "    error = np.sum(np.power(estimator.predict(X) - Y, 2)) / X.shape[0]\n",
    "    return error\n",
    "def rmse(X, Y, estimator):\n",
    "    return np.sqrt(mse(X, Y, estimator))\n",
    "rmse(x_test, y_test, estimator)"
   ]
  },
  {
   "cell_type": "code",
   "execution_count": null,
   "metadata": {},
   "outputs": [],
   "source": []
  }
 ],
 "metadata": {
  "kernelspec": {
   "display_name": "Python 3 (ipykernel)",
   "language": "python",
   "name": "python3"
  },
  "language_info": {
   "codemirror_mode": {
    "name": "ipython",
    "version": 3
   },
   "file_extension": ".py",
   "mimetype": "text/x-python",
   "name": "python",
   "nbconvert_exporter": "python",
   "pygments_lexer": "ipython3",
   "version": "3.8.10"
  }
 },
 "nbformat": 4,
 "nbformat_minor": 4
}
