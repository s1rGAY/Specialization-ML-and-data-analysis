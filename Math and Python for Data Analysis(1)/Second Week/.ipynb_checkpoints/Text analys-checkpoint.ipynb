{
 "cells": [
  {
   "cell_type": "code",
   "execution_count": 116,
   "id": "df9283d2-934b-41df-83b4-da2b9ef195d0",
   "metadata": {},
   "outputs": [],
   "source": [
    "import regex as re"
   ]
  },
  {
   "cell_type": "markdown",
   "id": "54599181-0f3a-4271-adda-379741a55146",
   "metadata": {},
   "source": [
    "##### считка данных + приведение к нижнему регистру"
   ]
  },
  {
   "cell_type": "code",
   "execution_count": 243,
   "id": "1d97903a-083c-4eb8-a709-d3bef8b75b8e",
   "metadata": {},
   "outputs": [],
   "source": [
    "data_text = list(open(\"sentences.txt\",'r'))"
   ]
  },
  {
   "cell_type": "code",
   "execution_count": 244,
   "id": "0e36814c-0818-4177-93ec-064c7ab07ef9",
   "metadata": {},
   "outputs": [],
   "source": [
    "for i in range(len(data_text)):\n",
    "    data_text[i]=(data_text[i].lower())\n",
    "    data_text[i]=re.split('[^a-z]', data_text[i])\n",
    "    temp_val=0\n",
    "    for j in data_text[i]:\n",
    "        if j=='' or j==' ':\n",
    "            del data_text[i][temp_val]\n",
    "        temp_val=temp_val+1"
   ]
  },
  {
   "cell_type": "code",
   "execution_count": 245,
   "id": "46ab2219-5df4-47f4-8917-e823adebdedf",
   "metadata": {},
   "outputs": [
    {
     "data": {
      "text/plain": [
       "['the',\n",
       " 'domesticated',\n",
       " 'cat',\n",
       " 'and',\n",
       " 'its',\n",
       " 'closest',\n",
       " 'wild',\n",
       " 'ancestor',\n",
       " 'are',\n",
       " 'both',\n",
       " 'diploid',\n",
       " 'organisms',\n",
       " 'that',\n",
       " 'possess',\n",
       " '',\n",
       " 'chromosomes',\n",
       " 'and',\n",
       " 'roughly',\n",
       " '',\n",
       " '',\n",
       " '',\n",
       " 'genes',\n",
       " '']"
      ]
     },
     "execution_count": 245,
     "metadata": {},
     "output_type": "execute_result"
    }
   ],
   "source": [
    "data_text[5]"
   ]
  },
  {
   "cell_type": "code",
   "execution_count": 181,
   "id": "fa7408f3-f367-47d8-92f1-cc5d256a5b48",
   "metadata": {},
   "outputs": [],
   "source": [
    "data_text[0]=data_text[0].lower()"
   ]
  },
  {
   "cell_type": "code",
   "execution_count": 182,
   "id": "d3ef8cb8-661b-40b1-bd74-e63d44c0ae54",
   "metadata": {},
   "outputs": [
    {
     "ename": "TypeError",
     "evalue": "expected string or buffer",
     "output_type": "error",
     "traceback": [
      "\u001b[0;31m---------------------------------------------------------------------------\u001b[0m",
      "\u001b[0;31mTypeError\u001b[0m                                 Traceback (most recent call last)",
      "\u001b[0;32m/tmp/ipykernel_4734/2625139002.py\u001b[0m in \u001b[0;36m<module>\u001b[0;34m\u001b[0m\n\u001b[0;32m----> 1\u001b[0;31m \u001b[0mre\u001b[0m\u001b[0;34m.\u001b[0m\u001b[0msplit\u001b[0m\u001b[0;34m(\u001b[0m\u001b[0;34m'[^a-z]'\u001b[0m\u001b[0;34m,\u001b[0m \u001b[0mdata_text\u001b[0m\u001b[0;34m[\u001b[0m\u001b[0;36m0\u001b[0m\u001b[0;34m]\u001b[0m\u001b[0;34m)\u001b[0m\u001b[0;34m\u001b[0m\u001b[0;34m\u001b[0m\u001b[0m\n\u001b[0m",
      "\u001b[0;32m~/.local/lib/python3.8/site-packages/regex/regex.py\u001b[0m in \u001b[0;36msplit\u001b[0;34m(pattern, string, maxsplit, flags, concurrent, timeout, ignore_unused, **kwargs)\u001b[0m\n\u001b[1;32m    321\u001b[0m     the list.\"\"\"\n\u001b[1;32m    322\u001b[0m     \u001b[0mpat\u001b[0m \u001b[0;34m=\u001b[0m \u001b[0m_compile\u001b[0m\u001b[0;34m(\u001b[0m\u001b[0mpattern\u001b[0m\u001b[0;34m,\u001b[0m \u001b[0mflags\u001b[0m\u001b[0;34m,\u001b[0m \u001b[0mignore_unused\u001b[0m\u001b[0;34m,\u001b[0m \u001b[0mkwargs\u001b[0m\u001b[0;34m,\u001b[0m \u001b[0;32mTrue\u001b[0m\u001b[0;34m)\u001b[0m\u001b[0;34m\u001b[0m\u001b[0;34m\u001b[0m\u001b[0m\n\u001b[0;32m--> 323\u001b[0;31m     \u001b[0;32mreturn\u001b[0m \u001b[0mpat\u001b[0m\u001b[0;34m.\u001b[0m\u001b[0msplit\u001b[0m\u001b[0;34m(\u001b[0m\u001b[0mstring\u001b[0m\u001b[0;34m,\u001b[0m \u001b[0mmaxsplit\u001b[0m\u001b[0;34m,\u001b[0m \u001b[0mconcurrent\u001b[0m\u001b[0;34m,\u001b[0m \u001b[0mtimeout\u001b[0m\u001b[0;34m)\u001b[0m\u001b[0;34m\u001b[0m\u001b[0;34m\u001b[0m\u001b[0m\n\u001b[0m\u001b[1;32m    324\u001b[0m \u001b[0;34m\u001b[0m\u001b[0m\n\u001b[1;32m    325\u001b[0m def splititer(pattern, string, maxsplit=0, flags=0, concurrent=None,\n",
      "\u001b[0;31mTypeError\u001b[0m: expected string or buffer"
     ]
    }
   ],
   "source": [
    "data_text[0]=re.split('[^a-z]', data_text[0])"
   ]
  },
  {
   "cell_type": "code",
   "execution_count": 168,
   "id": "f4e9b9ff-094e-4088-a524-aed0c0efcfd1",
   "metadata": {},
   "outputs": [
    {
     "data": {
      "text/plain": [
       "['in',\n",
       " 'comparison',\n",
       " 'to',\n",
       " 'dogs',\n",
       " '',\n",
       " 'cats',\n",
       " 'have',\n",
       " 'not',\n",
       " 'undergone',\n",
       " 'major',\n",
       " 'changes',\n",
       " 'during',\n",
       " 'the',\n",
       " 'domestication',\n",
       " 'process',\n",
       " '',\n",
       " '']"
      ]
     },
     "execution_count": 168,
     "metadata": {},
     "output_type": "execute_result"
    }
   ],
   "source": [
    "data_text[0]"
   ]
  },
  {
   "cell_type": "code",
   "execution_count": null,
   "id": "0508af24-ca12-4776-ace9-81544b125b49",
   "metadata": {},
   "outputs": [],
   "source": []
  },
  {
   "cell_type": "code",
   "execution_count": null,
   "id": "1f31505c-7431-4895-bea0-6d4ae3f02e75",
   "metadata": {},
   "outputs": [],
   "source": []
  }
 ],
 "metadata": {
  "kernelspec": {
   "display_name": "Python 3 (ipykernel)",
   "language": "python",
   "name": "python3"
  },
  "language_info": {
   "codemirror_mode": {
    "name": "ipython",
    "version": 3
   },
   "file_extension": ".py",
   "mimetype": "text/x-python",
   "name": "python",
   "nbconvert_exporter": "python",
   "pygments_lexer": "ipython3",
   "version": "3.8.10"
  }
 },
 "nbformat": 4,
 "nbformat_minor": 5
}
