{
 "cells": [
  {
   "cell_type": "markdown",
   "id": "ed0d2643-165b-4fe1-873a-6b54603f22f2",
   "metadata": {},
   "source": [
    "# TASK №1"
   ]
  },
  {
   "cell_type": "code",
   "execution_count": 39,
   "id": "f0e55c4a-275c-442b-84a3-52974f874490",
   "metadata": {},
   "outputs": [],
   "source": [
    "import regex as re\n",
    "import numpy as np\n",
    "import scipy.spatial.distance"
   ]
  },
  {
   "cell_type": "markdown",
   "id": "31714d56-d1b8-496c-8f2e-a38188075998",
   "metadata": {},
   "source": [
    "#### читка + токенизация"
   ]
  },
  {
   "cell_type": "code",
   "execution_count": 40,
   "id": "0d2ee836-57ae-4a2a-8ea6-8e57f5e009d3",
   "metadata": {},
   "outputs": [],
   "source": [
    "file = list(open('HW_sentences.txt','r'))\n",
    "for i in range(len(file)):\n",
    "    file[i] = file[i].lower()\n",
    "    file[i] = re.split('[^a-z]', file[i])     \n",
    "    while file[i].count(' ')!=0:\n",
    "        file[i].remove(' ')\n",
    "    while file[i].count(''):\n",
    "        file[i].remove('')"
   ]
  },
  {
   "cell_type": "markdown",
   "id": "6f55b3a2-41f5-426f-88c1-9f81c0876f8d",
   "metadata": {},
   "source": [
    "#### счёт слов"
   ]
  },
  {
   "cell_type": "code",
   "execution_count": 41,
   "id": "4dd43700-db18-4893-bee7-58fbf8b66629",
   "metadata": {},
   "outputs": [],
   "source": [
    "word_count = {}\n",
    "for i in file:\n",
    "    for j in i:\n",
    "        if word_count.get(j)==None:\n",
    "            word_count[j]=1\n",
    "        elif word_count.get(j)>0:\n",
    "            new_value = {j:word_count.get(j)+1}\n",
    "            word_count.update(new_value)"
   ]
  },
  {
   "cell_type": "markdown",
   "id": "04c361f5-8ce0-4dae-8af9-bc5f59f8e4bb",
   "metadata": {},
   "source": [
    "#### создание матрицы"
   ]
  },
  {
   "cell_type": "code",
   "execution_count": 42,
   "id": "478b0488-8263-4a88-b54d-0ccc096d2442",
   "metadata": {},
   "outputs": [],
   "source": [
    "my_matrix = np.ones((len(file),len(word_count)))\n",
    "for i in range(len(file)):\n",
    "    for j in range(len(word_count)):\n",
    "        my_matrix[i,j]=file[i].count(list(word_count.keys())[j])"
   ]
  },
  {
   "cell_type": "markdown",
   "id": "85948bb0-a5f3-4bb6-b485-2e1ae1a69423",
   "metadata": {},
   "source": [
    "#### нахождение косинусного расстояния"
   ]
  },
  {
   "cell_type": "code",
   "execution_count": 43,
   "id": "98bf122e-f3a2-42de-88cf-6d097c841eb9",
   "metadata": {},
   "outputs": [
    {
     "data": {
      "text/plain": [
       "[0,\n",
       " 0.7327387580875756,\n",
       " 0.7770887149698589,\n",
       " 0.8250364469440588,\n",
       " 0.8328165362273942,\n",
       " 0.8396432548525454,\n",
       " 0.8406361854220809,\n",
       " 0.8427572744917122,\n",
       " 0.8644738145642124,\n",
       " 0.8703592552895671,\n",
       " 0.8740118423302576,\n",
       " 0.8804771390665607,\n",
       " 0.8842724875284311,\n",
       " 0.8885443574849294,\n",
       " 0.8951715163278082,\n",
       " 0.9055088817476932,\n",
       " 0.9258750683338899,\n",
       " 0.9402385695332803,\n",
       " 0.9442721787424647,\n",
       " 0.9442721787424647,\n",
       " 0.9527544408738466,\n",
       " 0.956644501523794]"
      ]
     },
     "execution_count": 43,
     "metadata": {},
     "output_type": "execute_result"
    }
   ],
   "source": [
    "temp_arr=[]\n",
    "for i in range(len(my_matrix)):\n",
    "    temp_arr.append(scipy.spatial.distance.cosine(my_matrix[0, :],my_matrix[i, :]))\n",
    "\n",
    "temp_arr.sort()\n",
    "temp_arr"
   ]
  },
  {
   "cell_type": "markdown",
   "id": "57e3567c-5c72-4300-bbca-132f27a06082",
   "metadata": {},
   "source": [
    "### Чем меньше косинусное расстояние, тем более похожи тексты!!!"
   ]
  },
  {
   "cell_type": "markdown",
   "id": "712c2fb0-f213-4d9d-ab21-82b875b9752c",
   "metadata": {},
   "source": [
    "# TASK №2"
   ]
  },
  {
   "cell_type": "markdown",
   "id": "23a43539-d215-4f57-9024-2c92838db55d",
   "metadata": {},
   "source": [
    "#### f(x) = sin(x / 5) * exp(x / 10) + 5 * exp(-x / 2)"
   ]
  },
  {
   "cell_type": "code",
   "execution_count": 44,
   "id": "9de4ee7d-4a82-4940-bf58-4bc0a6c671db",
   "metadata": {},
   "outputs": [],
   "source": [
    "from scipy import linalg\n",
    "from math import sin,exp\n",
    "import matplotlib.pyplot as plt"
   ]
  },
  {
   "cell_type": "markdown",
   "id": "b4d240ff-04a1-4424-8d28-cb10a77bb373",
   "metadata": {},
   "source": [
    "### Первая степень"
   ]
  },
  {
   "cell_type": "code",
   "execution_count": 45,
   "id": "861959ed-ca3f-4d27-b39a-921c85dec7f3",
   "metadata": {},
   "outputs": [],
   "source": [
    "x1,x2 = 1,15\n",
    "a = np.array([[1,x1],[1,x2]])\n",
    "b = np.array([sin(x1 / 5) * exp(x1 / 10) + 5 * exp(-x1 / 2),sin(x2 / 5) * exp(x2 / 10) + 5 * exp(-x2 / 2)])\n",
    "koef = linalg.solve(a, b)"
   ]
  },
  {
   "cell_type": "code",
   "execution_count": 46,
   "id": "f3873d14-d88f-49b1-9c85-bd0912069762",
   "metadata": {},
   "outputs": [
    {
     "name": "stdout",
     "output_type": "stream",
     "text": [
      "[ 3.43914511 -0.18692825]\n"
     ]
    }
   ],
   "source": [
    "print(koef)"
   ]
  },
  {
   "cell_type": "code",
   "execution_count": 61,
   "id": "033e294d-e200-4ee6-b8d2-fe73d4860e4d",
   "metadata": {},
   "outputs": [
    {
     "data": {
      "image/png": "[encoded data removed]",
      "text/plain": [
       "<Figure size 432x288 with 1 Axes>"
      ]
     },
     "metadata": {
      "needs_background": "light"
     },
     "output_type": "display_data"
    }
   ],
   "source": [
    "x = np.arange(0, 15.1, 0.1)\n",
    "y = np.sin(x / 5) * np.exp(x / 10) + 5 * np.exp(-x / 2)\n",
    "\n",
    "my_func = koef[0] + koef[1]*x\n",
    "\n",
    "plt.plot(x, y)\n",
    "plt.plot(x,my_func)\n",
    "plt.show()"
   ]
  },
  {
   "cell_type": "markdown",
   "id": "36034752-8a4b-4bfc-b16b-5611651bbae9",
   "metadata": {},
   "source": [
    "### Вторая степень"
   ]
  },
  {
   "cell_type": "code",
   "execution_count": 62,
   "id": "1fc39d7e-72e3-4ef9-9e51-2522d258cd64",
   "metadata": {},
   "outputs": [],
   "source": [
    "x1,x2,x3 = 1,8,15\n",
    "a = np.array([[1,x1,(x1)**2],[1,x2,(x2)**2],[1,x3,(x3)**2]])\n",
    "b = np.array([sin(x1 / 5) * exp(x1 / 10) + 5 * exp(-x1 / 2),sin(x2 / 5) * exp(x2 / 10) + 5 * exp(-x2 / 2),sin(x3 / 5) * exp(x3 / 10) + 5 * exp(-x3 / 2)])\n",
    "sec_koef = linalg.solve(a, b)"
   ]
  },
  {
   "cell_type": "code",
   "execution_count": 63,
   "id": "eaa258d5-8fba-463d-9028-a336ff1284b9",
   "metadata": {},
   "outputs": [
    {
     "name": "stdout",
     "output_type": "stream",
     "text": [
      "[ 3.32512949 -0.06531159 -0.00760104]\n"
     ]
    }
   ],
   "source": [
    "print(sec_koef)"
   ]
  },
  {
   "cell_type": "code",
   "execution_count": 64,
   "id": "5b773f86-23e2-4f17-ad1c-6a6ec83408f7",
   "metadata": {},
   "outputs": [
    {
     "data": {
      "image/png": "[encoded data removed]",
      "text/plain": [
       "<Figure size 432x288 with 1 Axes>"
      ]
     },
     "metadata": {
      "needs_background": "light"
     },
     "output_type": "display_data"
    }
   ],
   "source": [
    "my_func = sec_koef[0] + sec_koef[1]*x +sec_koef[2]*x**2\n",
    "\n",
    "plt.plot(x, y)\n",
    "plt.plot(x,my_func)\n",
    "plt.show()"
   ]
  },
  {
   "cell_type": "markdown",
   "id": "ed1f52d3-4b08-4655-b776-dd92539b1dc0",
   "metadata": {},
   "source": [
    "### Третья степень"
   ]
  },
  {
   "cell_type": "code",
   "execution_count": 65,
   "id": "7250fbf6-f800-4794-9ab1-7edb474e1c34",
   "metadata": {},
   "outputs": [],
   "source": [
    "x1,x2,x3,x4 = 1,4,10,15\n",
    "a = np.array([[1,x1,(x1)**2,(x1)**3],[1,x2,(x2)**2,(x2)**3],[1,x3,(x3)**2,(x3)**3],[1,x4,(x4)**2,(x4)**3]])\n",
    "b = np.array([sin(x1 / 5) * exp(x1 / 10) + 5 * exp(-x1 / 2),sin(x2 / 5) * exp(x2 / 10) + 5 * exp(-x2 / 2),sin(x3 / 5) * exp(x3 / 10) + 5 * exp(-x3 / 2),sin(x4 / 5) * exp(x4 / 10) + 5 * exp(-x4 / 2)])\n",
    "third_koef = linalg.solve(a, b)"
   ]
  },
  {
   "cell_type": "code",
   "execution_count": 66,
   "id": "eeb0bf27-7001-4d36-bf8b-154111d6379d",
   "metadata": {},
   "outputs": [
    {
     "name": "stdout",
     "output_type": "stream",
     "text": [
      "[ 4.36264154 -1.29552587  0.19333685 -0.00823565]\n"
     ]
    }
   ],
   "source": [
    "print(third_koef)"
   ]
  },
  {
   "cell_type": "code",
   "execution_count": 67,
   "id": "a650bf62-1a55-4659-bc3c-e20562c1b908",
   "metadata": {},
   "outputs": [
    {
     "data": {
      "image/png": "[encoded data removed]",
      "text/plain": [
       "<Figure size 432x288 with 1 Axes>"
      ]
     },
     "metadata": {
      "needs_background": "light"
     },
     "output_type": "display_data"
    }
   ],
   "source": [
    "my_func = third_koef[0] + third_koef[1]*x +third_koef[2]*x**2 +third_koef[3]*x**3\n",
    "\n",
    "plt.plot(x, y)\n",
    "plt.plot(x,my_func)\n",
    "plt.show()"
   ]
  },
  {
   "cell_type": "code",
   "execution_count": null,
   "id": "6325318d-c0ad-4668-8ee6-6a92488009a0",
   "metadata": {},
   "outputs": [],
   "source": []
  },
  {
   "cell_type": "code",
   "execution_count": null,
   "id": "1b869f4d-a9a4-4290-a2eb-cd2dbf490dd4",
   "metadata": {},
   "outputs": [],
   "source": []
  }
 ],
 "metadata": {
  "kernelspec": {
   "display_name": "Python 3 (ipykernel)",
   "language": "python",
   "name": "python3"
  },
  "language_info": {
   "codemirror_mode": {
    "name": "ipython",
    "version": 3
   },
   "file_extension": ".py",
   "mimetype": "text/x-python",
   "name": "python",
   "nbconvert_exporter": "python",
   "pygments_lexer": "ipython3",
   "version": "3.8.10"
  }
 },
 "nbformat": 4,
 "nbformat_minor": 5
}
