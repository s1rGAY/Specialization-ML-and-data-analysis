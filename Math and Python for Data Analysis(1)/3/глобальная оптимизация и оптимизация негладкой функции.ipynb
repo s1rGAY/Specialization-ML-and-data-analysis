{
 "cells": [
  {
   "cell_type": "markdown",
   "id": "235e8137-48b6-417a-b52c-cf7a4bc6c918",
   "metadata": {},
   "source": [
    "Данное задание основано на материалах секции, посвященной оптимизационным задачам и методам их решения. Вам понадобится компьютер с установленным интерпретатором Python и подключенными библиотеками NumPy, SciPy и Matplotlib."
   ]
  },
  {
   "cell_type": "markdown",
   "id": "7196794b-2240-487b-9318-a666489ce3dc",
   "metadata": {},
   "source": [
    "### Вы научитесь:"
   ]
  },
  {
   "cell_type": "markdown",
   "id": "b5ffcbb4-bf24-4cfe-9301-a23a9f9e0054",
   "metadata": {},
   "source": [
    "1.применять библиотеку SciPy для минимизации функций\n",
    "\n",
    "2.делать выбор между градиентными и неградиентными методами оптимизации, исходя из особенностей задачи и ваших пожеланий к итоговому решению"
   ]
  },
  {
   "cell_type": "markdown",
   "id": "1492745a-e49f-4b18-8973-5f7d42b452d0",
   "metadata": {},
   "source": [
    "### Введение"
   ]
  },
  {
   "cell_type": "markdown",
   "id": "b997604b-2906-4ae4-8f1f-e04e46e69ff2",
   "metadata": {
    "tags": []
   },
   "source": [
    "В этом задании вы научитесь решать задачи оптимизации с помощью библиотеки SciPy. Сначала вы решите задачу поиска минимума функции с помощью одного из градиентных методов оптимизации, затем увидите отличия в работе градиентного метода и одного из методов глобальной оптимизации, а в заключение – найдете глобальный минимум негладкой функции, т.е. функции, у которой не всегда определен градиент.\n",
    "\n",
    "Понимание задачи глобальной оптимизации и отличий градиентных методов, от методов, не использующих градиент, очень полезно в задачах анализа данных, в частности, для подбора параметров алгоритмов."
   ]
  },
  {
   "cell_type": "markdown",
   "id": "70e10955-e504-4431-b1b4-c68a4a9a753d",
   "metadata": {},
   "source": [
    "### Материалы"
   ]
  },
  {
   "cell_type": "markdown",
   "id": "ae1a4d76-8098-4278-bb22-a924fe29abb5",
   "metadata": {
    "tags": []
   },
   "source": [
    "Справка по функциям пакета scipy.optimize: http://docs.scipy.org/doc/scipy/reference/optimize.html \n",
    "\n",
    "Matplotlib User Guide: http://matplotlib.org/users/index.html "
   ]
  },
  {
   "cell_type": "markdown",
   "id": "0af96ce7-41d4-4d78-b8bf-60fbcddb4026",
   "metadata": {
    "tags": []
   },
   "source": [
    "Данное задание состоит из трех частей. В каждой ответом будет набор чисел, который вам нужно будет набрать через пробел в текстовом файле и загрузить. Десятичные дроби записывайте через точку."
   ]
  },
  {
   "cell_type": "markdown",
   "id": "1dbb0374-b60e-43f8-9378-1dd7be079c8f",
   "metadata": {
    "tags": []
   },
   "source": [
    "### Задача 1. Минимизация гладкой функции"
   ]
  },
  {
   "cell_type": "markdown",
   "id": "03e780e5-a5e0-4d60-8eae-807a494692d8",
   "metadata": {
    "tags": []
   },
   "source": [
    "1. Рассмотрим все ту же функцию из задания по линейной алгебре: f(x) = sin(x / 5) * exp(x / 10) + 5 * exp(-x / 2), но теперь уже на промежутке [1, 30]\n",
    "\n",
    "2. В первом задании будем искать минимум этой функции на заданном промежутке с помощью scipy.optimize. Разумеется, в дальнейшем вы будете использовать методы оптимизации для более сложных функций, а f(x) мы рассмотрим как удобный учебный пример.\n",
    "\n",
    "3. Напишите на Питоне функцию, вычисляющую значение f(x) по известному x. Будьте внимательны: не забывайте про то, что по умолчанию в питоне целые числа делятся нацело, и о том, что функции sin и exp нужно импортировать из модуля math.\n",
    "\n",
    "4. Изучите примеры использования  scipy.optimize.minimize в документации Scipy (см. \"Материалы\")\n",
    "\n",
    "5. Попробуйте найти минимум, используя стандартные параметры в функции  scipy.optimize.minimize (т.е. задав только функцию и начальное приближение). Попробуйте менять начальное приближение и изучить, меняется ли результат. \n",
    "\n",
    "6. Укажите в scipy.optimize.minimize в качестве метода BFGS (один из самых точных в большинстве случаев градиентных методов оптимизации), запустите из начального приближения x=2. Градиент функции при этом указывать не нужно – он будет оценен численно. Полученное значение функции в точке минимума - ваш первый ответ по заданию 1, его надо записать с точностью до 2 знака после запятой.\n",
    "\n",
    "7. Теперь измените начальное приближение на x=30. Значение функции в точке минимума - ваш второй ответ по заданию 1, его надо записать через пробел после первого, с точностью до 2 знака после запятой.\n",
    "\n",
    "8. Стоит обдумать полученный результат. Почему ответ отличается в зависимости от начального приближения? Если нарисовать график функции (например, как это делалось в видео, где мы знакомились с Numpy, Scipy и Matplotlib), можно увидеть, в какие именно минимумы мы попали. В самом деле, градиентные методы обычно не решают задачу глобальной оптимизации, поэтому результаты работы ожидаемые и вполне корректные.\n",
    "\n"
   ]
  },
  {
   "cell_type": "markdown",
   "id": "58094db9-bf27-49f4-99ef-533e2309a776",
   "metadata": {},
   "source": [
    "### Задача 2. Глобальная оптимизация"
   ]
  },
  {
   "cell_type": "markdown",
   "id": "38bf70ec-94ee-45c1-b3f7-cb36d82fcb96",
   "metadata": {
    "tags": []
   },
   "source": [
    "1. Теперь попробуем применить к той же функции f(x) метод глобальной оптимизации — дифференциальную эволюцию.\n",
    "\n",
    "2. Изучите документацию и примеры использования функции scipy.optimize.differential_evolution.\n",
    "\n",
    "3. Обратите внимание, что границы значений аргументов функции представляют собой список кортежей (list, в который помещены объекты типа tuple). Даже если у вас функция одного аргумента, возьмите границы его значений в квадратные скобки, чтобы передавать в этом параметре список из одного кортежа, т.к. в реализации scipy.optimize.differential_evolution длина этого списка используется чтобы определить количество аргументов функции.\n",
    "\n",
    "4. Запустите поиск минимума функции f(x) с помощью дифференциальной эволюции на промежутке [1, 30]. Полученное значение функции в точке минимума - ответ в задаче 2. Запишите его с точностью до второго знака после запятой. В этой задаче ответ - только одно число.\n",
    "\n",
    "5. Заметьте, дифференциальная эволюция справилась с задачей поиска глобального минимума на отрезке, т.к. по своему устройству она предполагает борьбу с попаданием в локальные минимумы. \n",
    "\n",
    "6. Сравните количество итераций, потребовавшихся BFGS для нахождения минимума при хорошем начальном приближении, с количеством итераций, потребовавшихся дифференциальной эволюции. При повторных запусках дифференциальной эволюции количество итераций будет меняться, но в этом примере, скорее всего, оно всегда будет сравнимым с количеством итераций BFGS. Однако в дифференциальной эволюции за одну итерацию требуется выполнить гораздо больше действий, чем в BFGS. Например, можно обратить внимание на количество вычислений значения функции (nfev) и увидеть, что у BFGS оно значительно меньше. Кроме того, время работы дифференциальной эволюции очень быстро растет с увеличением числа аргументов функции."
   ]
  },
  {
   "cell_type": "markdown",
   "id": "e42adfd0-e627-49d7-b52f-b85903bd8ddb",
   "metadata": {},
   "source": [
    "### Задача 3. Минимизация негладкой функции"
   ]
  },
  {
   "cell_type": "markdown",
   "id": "d323b0b9-ddae-41f8-91ae-0dbb3afbaf71",
   "metadata": {
    "tags": []
   },
   "source": [
    "1. Теперь рассмотрим функцию h(x) = int(f(x)) на том же отрезке [1, 30], т.е. теперь каждое значение f(x) приводится к типу int и функция принимает только целые значения.\n",
    "\n",
    "2. Такая функция будет негладкой и даже разрывной, а ее график будет иметь ступенчатый вид. Убедитесь в этом, построив график h(x) с помощью matplotlib.\n",
    "\n",
    "3. Попробуйте найти минимум функции h(x) с помощью BFGS, взяв в качестве начального приближения x=30. Получившееся значение функции – ваш первый ответ в этой задаче.\n",
    "\n",
    "4. Теперь попробуйте найти минимум h(x) на отрезке [1, 30] с помощью дифференциальной эволюции. Значение функции h(x) в точке минимума – это ваш второй ответ в этом задании. Запишите его через пробел после предыдущего.\n",
    "\n",
    "5. Обратите внимание на то, что полученные ответы различаются. Это ожидаемый результат, ведь BFGS использует градиент (в одномерном случае – производную) и явно не пригоден для минимизации рассмотренной нами разрывной функции. Попробуйте понять, почему минимум, найденный BFGS, именно такой (возможно в этом вам поможет выбор разных начальных приближений). \n",
    "\n",
    "6. Выполнив это задание, вы увидели на практике, чем поиск минимума функции отличается от глобальной оптимизации, и когда может быть полезно применить вместо градиентного метода оптимизации метод, не использующий градиент. Кроме того, вы попрактиковались в использовании библиотеки SciPy для решения оптимизационных задач, и теперь знаете, насколько это просто и удобно."
   ]
  },
  {
   "cell_type": "markdown",
   "id": "1679dfdb-54f8-42f4-9361-6b9c156db66c",
   "metadata": {},
   "source": [
    "# My solution"
   ]
  },
  {
   "cell_type": "markdown",
   "id": "3bb33100-c759-41e1-9b02-332baa10b7c3",
   "metadata": {},
   "source": [
    "## Task №1\n",
    "### Градиентный метод"
   ]
  },
  {
   "cell_type": "markdown",
   "id": "b2b6e73b-cdc1-46aa-96ac-df5095fc4716",
   "metadata": {},
   "source": [
    " f(x) = sin(x / 5) * exp(x / 10) + 5 * exp(-x / 2)    [1,30]"
   ]
  },
  {
   "cell_type": "code",
   "execution_count": 1,
   "id": "26366c13-17b4-4750-b9df-0628e1127b63",
   "metadata": {
    "tags": []
   },
   "outputs": [],
   "source": [
    "import scipy.optimize\n",
    "import matplotlib.pyplot as plt\n",
    "import numpy as np\n",
    "from math import sin,exp"
   ]
  },
  {
   "cell_type": "code",
   "execution_count": 2,
   "id": "fbde472f-7c88-4d08-a107-6a4a85a9cf15",
   "metadata": {
    "tags": []
   },
   "outputs": [],
   "source": [
    "def function_value(x):\n",
    "    return sin(x / 5) * exp(x / 10) + 5 * exp(-x / 2)"
   ]
  },
  {
   "cell_type": "code",
   "execution_count": 3,
   "id": "5cebb257-45e7-4ba8-889e-7deb94b44e09",
   "metadata": {
    "tags": []
   },
   "outputs": [
    {
     "data": {
      "text/plain": [
       "[3.252216865271419, 2.449291284030007, -7.117298166960032]"
      ]
     },
     "execution_count": 3,
     "metadata": {},
     "output_type": "execute_result"
    }
   ],
   "source": [
    "x = np.arange(1, 30, 0.1)\n",
    "func_val = []\n",
    "for i in x:\n",
    "    func_val.append(function_value(i))\n",
    "func_val[::100]"
   ]
  },
  {
   "cell_type": "markdown",
   "id": "ef440f40-9aaf-42e0-bb7d-61a063f1e238",
   "metadata": {},
   "source": [
    "#### Вывод исследуемой функции"
   ]
  },
  {
   "cell_type": "code",
   "execution_count": 4,
   "id": "65858dd6-0113-4aa6-994a-8ab28720a3a6",
   "metadata": {},
   "outputs": [
    {
     "data": {
      "image/png": "[encoded data removed]",
      "text/plain": [
       "<Figure size 432x288 with 1 Axes>"
      ]
     },
     "metadata": {
      "needs_background": "light"
     },
     "output_type": "display_data"
    }
   ],
   "source": [
    "x = np.arange(0, 30, 0.1)\n",
    "y = np.sin(x / 5) * np.exp(x / 10) + 5 * np.exp(-x / 2)\n",
    "plt.plot(x, y)\n",
    "plt.show()"
   ]
  },
  {
   "cell_type": "markdown",
   "id": "f8c27bf1-f2ab-4e2e-ae96-356387b5efa9",
   "metadata": {},
   "source": [
    "#### Нахождение лок минимума ближайшего к 15.1"
   ]
  },
  {
   "cell_type": "code",
   "execution_count": 5,
   "id": "44436bdd-1bbf-483d-b12c-76e635b8c523",
   "metadata": {
    "tags": []
   },
   "outputs": [
    {
     "data": {
      "text/plain": [
       "      fun: -11.898894665965685\n",
       " hess_inv: array([[1.6767381]])\n",
       "      jac: array([-4.29153442e-06])\n",
       "  message: 'Optimization terminated successfully.'\n",
       "     nfev: 20\n",
       "      nit: 5\n",
       "     njev: 10\n",
       "   status: 0\n",
       "  success: True\n",
       "        x: array([25.88018578])"
      ]
     },
     "execution_count": 5,
     "metadata": {},
     "output_type": "execute_result"
    }
   ],
   "source": [
    "b=15.1\n",
    "min_value = scipy.optimize.minimize(function_value, b)\n",
    "min_value"
   ]
  },
  {
   "cell_type": "markdown",
   "id": "5ad9475d-6511-42d2-b6a3-1858d52aaebb",
   "metadata": {},
   "source": [
    "#### Нахождение лок минимума ближайшего к 2"
   ]
  },
  {
   "cell_type": "code",
   "execution_count": 6,
   "id": "9aa492c6-abb3-4be6-a314-0c3d35732dc8",
   "metadata": {
    "tags": []
   },
   "outputs": [
    {
     "data": {
      "text/plain": [
       "      fun: 1.7452682903449388\n",
       " hess_inv: array([[5.98752437]])\n",
       "      jac: array([-2.07126141e-06])\n",
       "  message: 'Optimization terminated successfully.'\n",
       "     nfev: 14\n",
       "      nit: 6\n",
       "     njev: 7\n",
       "   status: 0\n",
       "  success: True\n",
       "        x: array([4.13627618])"
      ]
     },
     "execution_count": 6,
     "metadata": {},
     "output_type": "execute_result"
    }
   ],
   "source": [
    "b=2\n",
    "min_value = scipy.optimize.minimize(function_value, b)\n",
    "min_value"
   ]
  },
  {
   "cell_type": "markdown",
   "id": "f4e3f609-e166-4257-9ee6-d5ff360bcd47",
   "metadata": {},
   "source": [
    "### BFSG"
   ]
  },
  {
   "cell_type": "markdown",
   "id": "c2ba9dc0-f823-47b1-91e7-effdba7facf1",
   "metadata": {},
   "source": [
    "##### для первоначального прближения в 2.0"
   ]
  },
  {
   "cell_type": "code",
   "execution_count": 7,
   "id": "c20a76af-0977-4e49-a1d0-5df2cea330c7",
   "metadata": {
    "tags": []
   },
   "outputs": [
    {
     "data": {
      "text/plain": [
       "      fun: 1.7452682903449388\n",
       " hess_inv: array([[5.98752437]])\n",
       "      jac: array([-2.07126141e-06])\n",
       "  message: 'Optimization terminated successfully.'\n",
       "     nfev: 14\n",
       "      nit: 6\n",
       "     njev: 7\n",
       "   status: 0\n",
       "  success: True\n",
       "        x: array([4.13627618])"
      ]
     },
     "execution_count": 7,
     "metadata": {},
     "output_type": "execute_result"
    }
   ],
   "source": [
    "initial_aproximation=2.0\n",
    "min_value = scipy.optimize.minimize(function_value, initial_aproximation,method='BFGS')\n",
    "min_value"
   ]
  },
  {
   "cell_type": "code",
   "execution_count": 8,
   "id": "c934471b-f3f3-4cab-b608-e9bcd19a074f",
   "metadata": {},
   "outputs": [],
   "source": [
    "answer = 1.74"
   ]
  },
  {
   "cell_type": "markdown",
   "id": "b5eecf38-035c-4717-b60d-701ec81bb253",
   "metadata": {},
   "source": [
    "##### для первоначального прближения в 2.0"
   ]
  },
  {
   "cell_type": "code",
   "execution_count": 9,
   "id": "187d5dfa-d88e-4560-a7da-777c450e02ed",
   "metadata": {
    "tags": []
   },
   "outputs": [
    {
     "data": {
      "text/plain": [
       "      fun: -11.898894665981285\n",
       " hess_inv: array([[1.67932484]])\n",
       "      jac: array([2.38418579e-07])\n",
       "  message: 'Optimization terminated successfully.'\n",
       "     nfev: 14\n",
       "      nit: 6\n",
       "     njev: 7\n",
       "   status: 0\n",
       "  success: True\n",
       "        x: array([25.88019339])"
      ]
     },
     "execution_count": 9,
     "metadata": {},
     "output_type": "execute_result"
    }
   ],
   "source": [
    "initial_aproximation=30.0\n",
    "min_value = scipy.optimize.minimize(function_value, initial_aproximation,method='BFGS')\n",
    "min_value"
   ]
  },
  {
   "cell_type": "code",
   "execution_count": 10,
   "id": "034b0a6e-d7bc-4537-8d28-b039440ad885",
   "metadata": {},
   "outputs": [],
   "source": [
    "answer = -11.89"
   ]
  },
  {
   "cell_type": "markdown",
   "id": "e85cd943-606a-4f0a-a210-f1b1bc94e9be",
   "metadata": {},
   "source": [
    "#### Вывод - градиентные методы хороши лишь для локальной оптимизации, в глобальной они практически бесполезны!"
   ]
  },
  {
   "cell_type": "markdown",
   "id": "9d561cdc-266a-4a57-a8e4-fc388a3218dc",
   "metadata": {},
   "source": [
    "## Task №2\n",
    "### Метод дифференциальной эволюции"
   ]
  },
  {
   "cell_type": "code",
   "execution_count": 11,
   "id": "310495b1-5aad-4ee5-b911-041481c1c46e",
   "metadata": {},
   "outputs": [],
   "source": [
    "from scipy.optimize import differential_evolution"
   ]
  },
  {
   "cell_type": "code",
   "execution_count": 12,
   "id": "08728420-af92-4f5c-8986-5e37c2d30d33",
   "metadata": {
    "tags": []
   },
   "outputs": [],
   "source": [
    "function_span = [(1.,30.)]\n",
    "min_value = scipy.optimize.differential_evolution(function_value, function_span)"
   ]
  },
  {
   "cell_type": "code",
   "execution_count": 13,
   "id": "174b8c0e-9ff2-458c-a243-7863736c542b",
   "metadata": {},
   "outputs": [
    {
     "data": {
      "text/plain": [
       "     fun: -11.898894665981318\n",
       "     jac: array([-1.77635669e-07])\n",
       " message: 'Optimization terminated successfully.'\n",
       "    nfev: 83\n",
       "     nit: 4\n",
       " success: True\n",
       "       x: array([25.88019293])"
      ]
     },
     "execution_count": 13,
     "metadata": {},
     "output_type": "execute_result"
    }
   ],
   "source": [
    "min_value"
   ]
  },
  {
   "cell_type": "code",
   "execution_count": 14,
   "id": "e48609ff-7e86-4e40-8b6b-c900c29d6394",
   "metadata": {},
   "outputs": [],
   "source": [
    "answer=-11.89"
   ]
  },
  {
   "cell_type": "markdown",
   "id": "878a2e38-fe63-44c2-93fe-eea8d9f8594c",
   "metadata": {},
   "source": [
    "#### Вывод - дифференциальная эволюция может бороться с локальными min и хорошо находить global min на отрезке, он при этом в дифференциальной эволюции за одну итерацию требуется выполнить гораздо больше действий, чем в BFGS. Например, можно обратить внимание на количество вычислений значения функции (nfev) и увидеть, что у BFGS оно значительно меньше. Кроме того, время работы дифференциальной эволюции очень быстро растет с увеличением числа аргументов функции."
   ]
  },
  {
   "cell_type": "markdown",
   "id": "4db27cec-d1af-4d24-ae7a-c21e41bd858a",
   "metadata": {},
   "source": [
    "## Task №3\n",
    "### Сравнение BFSG и Differential Evolution на примере НЕГЛАДКОЙ Ф-ИИ"
   ]
  },
  {
   "cell_type": "code",
   "execution_count": 15,
   "id": "fded59ae-8a4b-4b86-a8b0-7b879d3c91c0",
   "metadata": {},
   "outputs": [],
   "source": [
    "#h(x) = int(f(x)) - чтобы получить негладекую ф-ию с разрывами"
   ]
  },
  {
   "cell_type": "code",
   "execution_count": 16,
   "id": "d9939f51-c7d7-48a8-b4d6-2c47c021f276",
   "metadata": {},
   "outputs": [
    {
     "data": {
      "image/png": "[encoded data removed]",
      "text/plain": [
       "<Figure size 432x288 with 1 Axes>"
      ]
     },
     "metadata": {
      "needs_background": "light"
     },
     "output_type": "display_data"
    }
   ],
   "source": [
    "def new_func(x): \n",
    "    return int(function_value(x))\n",
    "\n",
    "x_value = np.arange(0, 30, 0.1)\n",
    "y_value = np.array([new_func(i) for i in x_value])\n",
    "plt.plot(x_value, y_value)\n",
    "plt.grid(True)\n",
    "plt.show() "
   ]
  },
  {
   "cell_type": "markdown",
   "id": "9558739b-72cc-431b-9913-e0cca7109b69",
   "metadata": {},
   "source": [
    "#### BFSG"
   ]
  },
  {
   "cell_type": "code",
   "execution_count": 17,
   "id": "6e4dcd37-65ef-49f0-bf11-b5a87c0c4395",
   "metadata": {},
   "outputs": [
    {
     "data": {
      "text/plain": [
       "      fun: -5\n",
       " hess_inv: array([[1]])\n",
       "      jac: array([0.])\n",
       "  message: 'Optimization terminated successfully.'\n",
       "     nfev: 2\n",
       "      nit: 0\n",
       "     njev: 1\n",
       "   status: 0\n",
       "  success: True\n",
       "        x: array([30.])"
      ]
     },
     "execution_count": 17,
     "metadata": {},
     "output_type": "execute_result"
    }
   ],
   "source": [
    "initial_aproximation=30\n",
    "min_value = scipy.optimize.minimize(new_func, initial_aproximation,method='BFGS')\n",
    "min_value"
   ]
  },
  {
   "cell_type": "markdown",
   "id": "6f60c2ca-c024-4c15-a9d0-3b133ce80a6c",
   "metadata": {},
   "source": [
    "#### Differencial_evolution"
   ]
  },
  {
   "cell_type": "code",
   "execution_count": 26,
   "id": "b4261f89-27b3-4fed-a08e-f61ceae9a86c",
   "metadata": {},
   "outputs": [],
   "source": [
    "function_span = [(1.,30.)]\n",
    "min_value = scipy.optimize.differential_evolution(new_func, function_span)"
   ]
  },
  {
   "cell_type": "code",
   "execution_count": 27,
   "id": "76c4f7bf-cd06-4a1e-9e3f-1567fdd594ac",
   "metadata": {},
   "outputs": [
    {
     "data": {
      "text/plain": [
       "     fun: -11.0\n",
       " message: 'Optimization terminated successfully.'\n",
       "    nfev: 62\n",
       "     nit: 3\n",
       " success: True\n",
       "       x: array([25.61687598])"
      ]
     },
     "execution_count": 27,
     "metadata": {},
     "output_type": "execute_result"
    }
   ],
   "source": [
    "min_value"
   ]
  },
  {
   "cell_type": "code",
   "execution_count": null,
   "id": "0ccfd407-638c-4250-ae92-127082adeb22",
   "metadata": {},
   "outputs": [],
   "source": []
  }
 ],
 "metadata": {
  "kernelspec": {
   "display_name": "Python 3 (ipykernel)",
   "language": "python",
   "name": "python3"
  },
  "language_info": {
   "codemirror_mode": {
    "name": "ipython",
    "version": 3
   },
   "file_extension": ".py",
   "mimetype": "text/x-python",
   "name": "python",
   "nbconvert_exporter": "python",
   "pygments_lexer": "ipython3",
   "version": "3.8.10"
  }
 },
 "nbformat": 4,
 "nbformat_minor": 5
}
