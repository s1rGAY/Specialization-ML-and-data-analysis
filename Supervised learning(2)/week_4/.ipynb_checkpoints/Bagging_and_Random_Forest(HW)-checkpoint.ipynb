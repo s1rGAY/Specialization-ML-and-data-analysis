{
 "cells": [
  {
   "cell_type": "code",
   "execution_count": 98,
   "id": "2704efab-162b-402a-b8ba-c765e561cd85",
   "metadata": {},
   "outputs": [],
   "source": [
    "from sklearn import * #because datasets is a sub-package of sklearn\n",
    "import pandas as pd\n",
    "import numpy as np\n",
    "from matplotlib import pyplot as plt\n",
    "%matplotlib inline"
   ]
  },
  {
   "cell_type": "markdown",
   "id": "f2074d62-cd19-4b68-8a35-c49d141321c6",
   "metadata": {},
   "source": [
    "### Data preparation"
   ]
  },
  {
   "cell_type": "code",
   "execution_count": 99,
   "id": "3dfeabec-e8a6-4551-9f94-c433b3a51b99",
   "metadata": {},
   "outputs": [
    {
     "name": "stdout",
     "output_type": "stream",
     "text": [
      "(1797, 64)\n"
     ]
    }
   ],
   "source": [
    "digits = sk.datasets.load_digits()\n",
    "print(digits.data.shape)"
   ]
  },
  {
   "cell_type": "code",
   "execution_count": 100,
   "id": "e52a0f71-3f44-45ad-b618-80a038523974",
   "metadata": {},
   "outputs": [],
   "source": [
    "def write_answer(answer, nomber):\n",
    "    file_name = str(nomber)+'.txt'\n",
    "    f = open(file_name, 'w')\n",
    "    f.write(str(answer))\n",
    "    f.close()"
   ]
  },
  {
   "cell_type": "code",
   "execution_count": 101,
   "id": "ca9ba584-a867-43bb-b839-853cfa171ad2",
   "metadata": {},
   "outputs": [],
   "source": [
    "type(digits)\n",
    "X = digits.data\n",
    "y = digits.target"
   ]
  },
  {
   "cell_type": "markdown",
   "id": "b609e91a-2f41-4def-b1bc-e39aa2b7a12a",
   "metadata": {},
   "source": [
    "### DecisionTreeClassifier"
   ]
  },
  {
   "cell_type": "code",
   "execution_count": 102,
   "id": "7f1f482e-cfc2-4b88-9697-b482a259d6af",
   "metadata": {},
   "outputs": [
    {
     "name": "stdout",
     "output_type": "stream",
     "text": [
      "0.8241247672253259\n"
     ]
    }
   ],
   "source": [
    "from sklearn.model_selection import cross_val_score\n",
    "from sklearn.tree import DecisionTreeClassifier\n",
    "\n",
    "clf = DecisionTreeClassifier(random_state=0)\n",
    "scores = cross_val_score(clf, X, y, cv=10)\n",
    "ans = scores.mean()\n",
    "print(ans)\n",
    "\n",
    "write_answer(ans, 1)"
   ]
  },
  {
   "cell_type": "markdown",
   "id": "c9fc3146-506f-4959-9b61-37d06dc03d4a",
   "metadata": {},
   "source": [
    "### BaggingClassifier"
   ]
  },
  {
   "cell_type": "code",
   "execution_count": 115,
   "id": "e78c5fd3-336d-43f5-abff-e90e1d4bbb06",
   "metadata": {},
   "outputs": [
    {
     "name": "stdout",
     "output_type": "stream",
     "text": [
      "0.9248417132216014\n"
     ]
    }
   ],
   "source": [
    "from sklearn.ensemble import BaggingClassifier\n",
    "\n",
    "bg = BaggingClassifier(n_estimators=100)\n",
    "scores = cross_val_score(bg, X, y, cv=10)\n",
    "ans = scores.mean()\n",
    "print(ans)\n",
    "\n",
    "write_answer(ans, 2)"
   ]
  },
  {
   "cell_type": "markdown",
   "id": "38b997ca-76b6-4e36-841f-d2420b36f504",
   "metadata": {},
   "source": [
    "### BaggingClassifier with prams"
   ]
  },
  {
   "cell_type": "code",
   "execution_count": 117,
   "id": "998cc7a4-b9a0-4272-8bbd-2a9952381331",
   "metadata": {},
   "outputs": [],
   "source": [
    "sqrt_d = pow(X.data.shape[1],0.5)\n",
    "\n",
    "bg = BaggingClassifier (base_estimator = clf, n_estimators=100, random_state = 0,n_jobs=-1, \n",
    "                        max_features = 8)\n",
    "#pow(X.data.shape[1],0.5) - не работает (выдаёт большую ошибку + с советом по дебагу\n",
    "# error_score='raise') \n",
    "# даже если выношу вычисления, переменную нельзя передать! Только число руками\n",
    "# //Доблено в anyDO.\n",
    "\n",
    "scores = cross_val_score(bg, X, y, cv=10)\n",
    "write_answer(scores.mean(),3)"
   ]
  },
  {
   "cell_type": "markdown",
   "id": "636f3814-d5e4-4325-9df1-30bed3befe03",
   "metadata": {},
   "source": [
    "### Random features for every node of tree"
   ]
  },
  {
   "cell_type": "code",
   "execution_count": 126,
   "id": "cf7817e3-5e22-4c17-aa9b-9a4fe4047861",
   "metadata": {},
   "outputs": [],
   "source": [
    "clf = DecisionTreeClassifier(random_state=0, splitter = 'random', max_features = 8)\n",
    "from sklearn.ensemble import BaggingClassifier\n",
    "bg = BaggingClassifier (base_estimator = clf, n_estimators=100, n_jobs=-1)                       \n",
    "scores = cross_val_score(bg, X, y, cv=10)\n",
    "write_answer(scores.mean(),4)"
   ]
  },
  {
   "cell_type": "code",
   "execution_count": 125,
   "id": "3fac82cc-b08c-4afa-9ea8-03bde118968c",
   "metadata": {},
   "outputs": [],
   "source": [
    "answer='2 3 4 7'\n",
    "write_answer(answer=answer,nomber=5)"
   ]
  },
  {
   "cell_type": "code",
   "execution_count": null,
   "id": "01e63e28-b242-493d-8ee1-8bf898e54d1f",
   "metadata": {},
   "outputs": [],
   "source": []
  },
  {
   "cell_type": "code",
   "execution_count": null,
   "id": "d91dbe40-952f-4eaa-a3d2-7a6e8ca9ce56",
   "metadata": {},
   "outputs": [],
   "source": []
  }
 ],
 "metadata": {
  "kernelspec": {
   "display_name": "Python 3 (ipykernel)",
   "language": "python",
   "name": "python3"
  },
  "language_info": {
   "codemirror_mode": {
    "name": "ipython",
    "version": 3
   },
   "file_extension": ".py",
   "mimetype": "text/x-python",
   "name": "python",
   "nbconvert_exporter": "python",
   "pygments_lexer": "ipython3",
   "version": "3.8.10"
  }
 },
 "nbformat": 4,
 "nbformat_minor": 5
}
