{
 "cells": [
  {
   "cell_type": "code",
   "execution_count": 106,
   "id": "44d7a061-c6f4-4ae4-8909-cc8dda801197",
   "metadata": {},
   "outputs": [],
   "source": [
    "from sklearn import datasets\n",
    "from sklearn import model_selection"
   ]
  },
  {
   "cell_type": "code",
   "execution_count": 107,
   "id": "5c745b8e-4dbd-4ae5-a1a1-2eb0be2ce30f",
   "metadata": {},
   "outputs": [],
   "source": [
    "data = datasets.load_digits()\n",
    "X, y = data.data, data.target\n",
    "#X_train, X_test, y_train, y_test = model_selection.train_test_split(X, y, test_size=0.75)"
   ]
  },
  {
   "cell_type": "code",
   "execution_count": 108,
   "id": "40216a65-9acf-407c-a43c-3e95c83186ae",
   "metadata": {},
   "outputs": [],
   "source": [
    "import numpy as np\n",
    "from sklearn.metrics import accuracy_score"
   ]
  },
  {
   "cell_type": "code",
   "execution_count": 109,
   "id": "e3a90f30-d0b4-469b-adad-34281be54eb1",
   "metadata": {},
   "outputs": [],
   "source": [
    "idx = int(0.75 * X.shape[0]) + 1\n",
    "\n",
    "X_train, X_test = np.split(X, [idx])\n",
    "y_train, y_test = np.split(y, [idx])"
   ]
  },
  {
   "cell_type": "code",
   "execution_count": 110,
   "id": "a9d09dea-b2f9-45ae-be3b-fe3f1579a3ac",
   "metadata": {},
   "outputs": [
    {
     "name": "stdout",
     "output_type": "stream",
     "text": [
      "1nn classifier error: 0.03786191536748329\n"
     ]
    }
   ],
   "source": [
    "def euclidian_metric(x, y):\n",
    "    return np.sqrt( np.sum((x - y)**2) )\n",
    "\n",
    "y_pred_knn = []\n",
    "for test_value in X_test:\n",
    "    ind_min_metric = 0\n",
    "    min_metric = euclidian_metric(test_value, X_train[0])\n",
    "    \n",
    "    for index, train_value in enumerate(X_train):\n",
    "        metric = euclidian_metric(test_value, train_value)\n",
    "        if metric < min_metric:\n",
    "            min_metric = metric\n",
    "            ind_min_metric = index\n",
    "            \n",
    "    y_pred_knn.append(y_train[ind_min_metric])\n",
    "\n",
    "#Accuracy\n",
    "knn_err_rate = 1 - metrics.accuracy_score(y_test,y_pred=y_pred_knn)\n",
    "print('1nn classifier error: ' + str(knn_err_rate))\n",
    "\n",
    "with open('answer11.txt', 'w') as fout:\n",
    "    fout.write(str(knn_err_rate))"
   ]
  },
  {
   "cell_type": "code",
   "execution_count": 111,
   "id": "afef563f-d993-4b98-ab46-4d3640c8d37b",
   "metadata": {},
   "outputs": [],
   "source": [
    "from sklearn import ensemble"
   ]
  },
  {
   "cell_type": "code",
   "execution_count": 112,
   "id": "42b33a34-eba0-4bac-8aab-b4ca755a4b65",
   "metadata": {},
   "outputs": [],
   "source": [
    "clf = ensemble.RandomForestClassifier(n_estimators=1000,n_jobs=-1)\n",
    "clf.fit(X_train, y_train)\n",
    "y_pred_rf = clf.predict(X_test)"
   ]
  },
  {
   "cell_type": "code",
   "execution_count": 113,
   "id": "171aa563-e902-4a4f-baf6-555345c6384f",
   "metadata": {},
   "outputs": [
    {
     "name": "stdout",
     "output_type": "stream",
     "text": [
      "Random forest classifier error: 0.062360801781737196\n"
     ]
    }
   ],
   "source": [
    "rf_err_rate = 1 - metrics.accuracy_score(y_test,y_pred=y_pred_rf)\n",
    "print('Random forest classifier error: ' + str(rf_err_rate))"
   ]
  },
  {
   "cell_type": "code",
   "execution_count": 114,
   "id": "2d11cbde-cad7-4c31-b75e-20441a35f5e2",
   "metadata": {},
   "outputs": [],
   "source": [
    "with open('answer22.txt', 'w') as fout:\n",
    "    fout.write(str(rf_err_rate))"
   ]
  },
  {
   "cell_type": "code",
   "execution_count": null,
   "id": "e9083215-f124-43e3-be4f-568c1a48f932",
   "metadata": {},
   "outputs": [],
   "source": []
  }
 ],
 "metadata": {
  "kernelspec": {
   "display_name": "Python 3 (ipykernel)",
   "language": "python",
   "name": "python3"
  },
  "language_info": {
   "codemirror_mode": {
    "name": "ipython",
    "version": 3
   },
   "file_extension": ".py",
   "mimetype": "text/x-python",
   "name": "python",
   "nbconvert_exporter": "python",
   "pygments_lexer": "ipython3",
   "version": "3.8.10"
  }
 },
 "nbformat": 4,
 "nbformat_minor": 5
}
