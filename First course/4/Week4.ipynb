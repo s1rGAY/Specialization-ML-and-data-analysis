{
 "cells": [
  {
   "cell_type": "markdown",
   "id": "a48f8fb6-bd3b-4eb0-8499-37f2d53dddce",
   "metadata": {},
   "source": [
    "# Распределение Бернулли"
   ]
  },
  {
   "cell_type": "code",
   "execution_count": 32,
   "id": "2364b777-2eaf-4e18-908e-3d7a311ed4cf",
   "metadata": {},
   "outputs": [],
   "source": [
    "import pandas as pd\n",
    "import numpy as np\n",
    "import matplotlib.pyplot as plt\n",
    "import scipy.stats as sts\n",
    "%matplotlib inline"
   ]
  },
  {
   "cell_type": "code",
   "execution_count": 59,
   "id": "3ff64b1c-602d-4120-8432-b88176622541",
   "metadata": {},
   "outputs": [
    {
     "name": "stdout",
     "output_type": "stream",
     "text": [
      "Распределение lognormal с вероятностью = 4 и mu = 1. Матожидание 4.0 Дисперсия 4.0\n"
     ]
    },
    {
     "data": {
      "image/png": "[encoded data removed]",
      "text/plain": [
       "<Figure size 432x288 with 1 Axes>"
      ]
     },
     "metadata": {
      "needs_background": "light"
     },
     "output_type": "display_data"
    }
   ],
   "source": [
    "# вводим распределение Максвелла\n",
    "mu = 1\n",
    "lognormal = sts.lognorm(mu) \n",
    "rvs = lognormal.rvs(1000)\n",
    "\n",
    "\n",
    "# Частицы не могут быть распределены отрицательно, поэтому распределение существует x>=0. \n",
    "# Проведем генерацию 1к значений в пределах от 0 до 3.5\n",
    "x = np.linspace(0,8,1000)\n",
    "\n",
    "\n",
    "# Получим значение функции распределения Lognormal:\n",
    "cdf_lognormal = lognormal.cdf(x)\n",
    "\n",
    "\n",
    "# значение функции плотности вероятности :\n",
    "pdf_lognormal = lognormal.pdf(x)\n",
    "\n",
    "\n",
    "# рисуем гистограмму распределения и функцию плотности:\n",
    "plt.plot(x, pdf_lognormal, label='lognormal',linewidth = 2.5)\n",
    "plt.hist(rvs, density = True)\n",
    "\n",
    "\n",
    "# Найдем выборочные статистики среднее и дисперсию:\n",
    "mean = poiss.mean()\n",
    "var = poiss.var()\n",
    "\n",
    "plt.ylabel('$F(x)$')\n",
    "plt.xlabel('$x$')\n",
    "plt.legend(loc='upper right')\n",
    "\n",
    "print(f'Распределение lognormal с вероятностью = {p} и mu = {mu}. \\\n",
    "Матожидание {round(mean, 3)} Дисперсия {round(var, 3)}')"
   ]
  },
  {
   "cell_type": "code",
   "execution_count": null,
   "id": "01cc0701-c0e9-4049-a5bc-987cb40e233f",
   "metadata": {},
   "outputs": [],
   "source": []
  },
  {
   "cell_type": "code",
   "execution_count": null,
   "id": "b4201246-ece2-4415-a68b-98cd6046f0f3",
   "metadata": {},
   "outputs": [],
   "source": []
  }
 ],
 "metadata": {
  "kernelspec": {
   "display_name": "Python 3 (ipykernel)",
   "language": "python",
   "name": "python3"
  },
  "language_info": {
   "codemirror_mode": {
    "name": "ipython",
    "version": 3
   },
   "file_extension": ".py",
   "mimetype": "text/x-python",
   "name": "python",
   "nbconvert_exporter": "python",
   "pygments_lexer": "ipython3",
   "version": "3.8.10"
  }
 },
 "nbformat": 4,
 "nbformat_minor": 5
}
